{
 "cells": [
  {
   "cell_type": "code",
   "execution_count": 10,
   "metadata": {},
   "outputs": [
    {
     "name": "stdout",
     "output_type": "stream",
     "text": [
      "Factorial is  120\n"
     ]
    }
   ],
   "source": [
    "#question 1\n",
    "\n",
    "def factorial(num):\n",
    "    fact = 1\n",
    "    while(num > 1):\n",
    "        fact = fact * num\n",
    "        num = num -1;\n",
    "    return fact\n",
    "\n",
    "print(\"Factorial is \", factorial(5))\n"
   ]
  },
  {
   "cell_type": "code",
   "execution_count": 17,
   "metadata": {},
   "outputs": [
    {
     "name": "stdout",
     "output_type": "stream",
     "text": [
      "Upper: 6, Lower: 39\n"
     ]
    }
   ],
   "source": [
    "#question 2\n",
    "def find_letter_case_count(str):\n",
    "    upper_count = 0\n",
    "    lower_count = 0\n",
    "    #65-90\n",
    "    #97-122\n",
    "    for letter in str:\n",
    "        if(ord(letter) in range(65, 91)):\n",
    "            upper_count += 1\n",
    "        elif(ord(letter) in range(97, 123)):\n",
    "            lower_count += 1\n",
    "    return (upper_count, lower_count)\n",
    "    \n",
    "counts = find_letter_case_count(\"Hello Python Programming Language Essential Course\")\n",
    "\n",
    "print(\"Upper: %s, Lower: %s\"%counts)\n",
    "\n"
   ]
  },
  {
   "cell_type": "code",
   "execution_count": 18,
   "metadata": {},
   "outputs": [
    {
     "name": "stdout",
     "output_type": "stream",
     "text": [
      "2\n",
      "4\n",
      "6\n",
      "8\n"
     ]
    }
   ],
   "source": [
    "#question 3\n",
    "\n",
    "def print_even(numbers):\n",
    "    for number in numbers:\n",
    "        if(number % 2 == 0):\n",
    "            print(number)\n",
    "            \n",
    "print_even([1, 2, 3, 4, 5, 6, 7, 8, 9])\n"
   ]
  },
  {
   "cell_type": "code",
   "execution_count": 27,
   "metadata": {},
   "outputs": [
    {
     "name": "stdout",
     "output_type": "stream",
     "text": [
      "True\n"
     ]
    }
   ],
   "source": [
    "#question 4\n",
    "\n",
    "def is_paindrome(str):\n",
    "    rev = \"\"\n",
    "    for each_letter in str:\n",
    "        rev = each_letter + rev\n",
    "    \n",
    "    return str.lower() == rev.lower()\n",
    "    \n",
    "print(is_paindrome(\"Madam\"))"
   ]
  },
  {
   "cell_type": "code",
   "execution_count": 58,
   "metadata": {},
   "outputs": [
    {
     "name": "stdout",
     "output_type": "stream",
     "text": [
      "is_prime True\n"
     ]
    }
   ],
   "source": [
    "#question 5\n",
    "\n",
    "def is_prime(num):\n",
    "    is_prime_num = True\n",
    "    if(num > 1):\n",
    "        for i in range(2, num//2 + 1):\n",
    "            if(num % i == 0):\n",
    "                is_prime_num =  False\n",
    "                break\n",
    "    else:\n",
    "        is_prime_num =  False\n",
    "        \n",
    "    return is_prime_num\n",
    "\n",
    "print(\"is_prime\", is_prime(11))\n"
   ]
  },
  {
   "cell_type": "code",
   "execution_count": 60,
   "metadata": {},
   "outputs": [
    {
     "name": "stdout",
     "output_type": "stream",
     "text": [
      "2 kg Chicken\n",
      "1 Kg oil\n",
      "3 Kg rice\n"
     ]
    }
   ],
   "source": [
    "#question 6\n",
    "def show_cart(*items):\n",
    "    for each_item in items:\n",
    "        print(each_item)\n",
    "    \n",
    "show_cart(\"2 kg Chicken\", \"1 Kg oil\", \"3 Kg rice\")"
   ]
  },
  {
   "cell_type": "code",
   "execution_count": null,
   "metadata": {},
   "outputs": [],
   "source": []
  }
 ],
 "metadata": {
  "kernelspec": {
   "display_name": "Python 3",
   "language": "python",
   "name": "python3"
  },
  "language_info": {
   "codemirror_mode": {
    "name": "ipython",
    "version": 3
   },
   "file_extension": ".py",
   "mimetype": "text/x-python",
   "name": "python",
   "nbconvert_exporter": "python",
   "pygments_lexer": "ipython3",
   "version": "3.7.3"
  }
 },
 "nbformat": 4,
 "nbformat_minor": 2
}
