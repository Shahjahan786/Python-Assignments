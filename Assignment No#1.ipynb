{
 "cells": [
  {
   "cell_type": "code",
   "execution_count": 1,
   "metadata": {
    "collapsed": false
   },
   "outputs": [
    {
     "name": "stdout",
     "output_type": "stream",
     "text": [
      "Twinkle, twinkle, little star,\n",
      "       How I wonder what you are!\n",
      "             Up above the world so high\n",
      "             Like a diamond in the sky.\n",
      "Twinkle, twinkle, little star,\n",
      "       How I wonder what you are\n"
     ]
    }
   ],
   "source": [
    "str = \"\"\"Twinkle, twinkle, little star,\n",
    "       How I wonder what you are!\n",
    "             Up above the world so high\n",
    "             Like a diamond in the sky.\n",
    "Twinkle, twinkle, little star,\n",
    "       How I wonder what you are\"\"\"\n",
    "print(str)"
   ]
  },
  {
   "cell_type": "code",
   "execution_count": 2,
   "metadata": {
    "collapsed": false
   },
   "outputs": [
    {
     "name": "stdout",
     "output_type": "stream",
     "text": [
      "Python Version: 3.6.8\n"
     ]
    }
   ],
   "source": [
    "#import sys module\n",
    "import sys\n",
    "#get tuple by calling sys.version_info and print upto 3rd index 0>Major, 1>Minor, 2>Micro\n",
    "print(\"Python Version: {}.{}.{}\".format(sys.version_info[0],sys.version_info[1],sys.version_info[2]))"
   ]
  },
  {
   "cell_type": "code",
   "execution_count": 3,
   "metadata": {
    "collapsed": false
   },
   "outputs": [
    {
     "name": "stdout",
     "output_type": "stream",
     "text": [
      "Current date and time  02/11/2019 17:30:47\n"
     ]
    }
   ],
   "source": [
    "#import datetime module\n",
    "from datetime import datetime\n",
    "#get instance of current datetime\n",
    "currentDateTime = datetime.now()\n",
    "#format the date time\n",
    "currentDateTimeFormatted = currentDateTime.strftime(\"%d/%m/%Y %H:%M:%S\")\n",
    "#print the formatted date and time\n",
    "print(\"Current date and time \", currentDateTimeFormatted)"
   ]
  },
  {
   "cell_type": "markdown",
   "metadata": {
    "collapsed": false
   },
   "source": [
    "###### get user input as integer for first number\n",
    "num1=int(input(\"Enter value 1: \"))\n",
    "#get user input as integer for second number\n",
    "num2=int(input(\"Enter value 2: \"))\n",
    "\n",
    "#print addition of two number inputs\n",
    "print(\"Addition is {}\".format(num1+num2))"
   ]
  },
  {
   "cell_type": "code",
   "execution_count": 5,
   "metadata": {
    "cocalc": {
     "outputs": {
      "0": {
       "name": "input",
       "opts": {
        "password": false,
        "prompt": "Enter the radius :"
       },
       "output_type": "stream",
       "value": "10"
      }
     }
    },
    "collapsed": false
   },
   "outputs": [
    {
     "name": "stdout",
     "output_type": "stream",
     "text": "Enter the radius : 10"
    },
    {
     "name": "stdout",
     "output_type": "stream",
     "text": [
      "Area of circle is : 314.00\n"
     ]
    }
   ],
   "source": [
    "# PIis constant with value 3.14\n",
    "PI = 3.14\n",
    "# R user input as integer\n",
    "R = float(input('Enter the radius :'))\n",
    "# Calculate area of circle\n",
    "area = PI * R * R\n",
    "#print area of circle\n",
    "print(\"Area of circle is : %.2f\" %area)"
   ]
  },
  {
   "cell_type": "code",
   "execution_count": 6,
   "metadata": {
    "cocalc": {
     "outputs": {
      "0": {
       "name": "input",
       "opts": {
        "password": false,
        "prompt": "Enter first name: "
       },
       "output_type": "stream",
       "value": "Shahjahan"
      },
      "1": {
       "name": "input",
       "opts": {
        "password": false,
        "prompt": "Enter last name: "
       },
       "output_type": "stream",
       "value": "Samoon"
      }
     }
    },
    "collapsed": false
   },
   "outputs": [
    {
     "name": "stdout",
     "output_type": "stream",
     "text": "Enter first name:  Shahjahan"
    },
    {
     "name": "stdout",
     "output_type": "stream",
     "text": "Enter last name:  Samoon"
    },
    {
     "name": "stdout",
     "output_type": "stream",
     "text": [
      "Reverse is noomaS nahajhahS\n"
     ]
    }
   ],
   "source": [
    "fname = input(\"Enter first name: \")\n",
    "lname = input(\"Enter last name: \")\n",
    "\n",
    "full_name = fname +\" \"+lname\n",
    "print(\"Reverse is {}\".format(full_name[::-1]))"
   ]
  }
 ],
 "metadata": {
  "kernelspec": {
   "display_name": "Python 3 (system-wide)",
   "language": "python",
   "metadata": {
    "cocalc": {
     "description": "Python 3 programming language",
     "priority": 100,
     "url": "https://www.python.org/"
    }
   },
   "name": "python3"
  },
  "language_info": {
   "codemirror_mode": {
    "name": "ipython",
    "version": 3
   },
   "file_extension": ".py",
   "mimetype": "text/x-python",
   "name": "python",
   "nbconvert_exporter": "python",
   "pygments_lexer": "ipython3",
   "version": "3.6.8"
  }
 },
 "nbformat": 4,
 "nbformat_minor": 0
}