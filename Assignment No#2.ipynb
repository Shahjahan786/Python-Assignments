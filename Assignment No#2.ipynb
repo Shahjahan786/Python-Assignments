{
 "cells": [
  {
   "cell_type": "code",
   "execution_count": 1,
   "metadata": {},
   "outputs": [
    {
     "name": "stdout",
     "output_type": "stream",
     "text": [
      "Enter Math's Marks: 45\n",
      "Enter English Marks: 67\n",
      "Enter Science Marks: 78\n",
      "Enter Urdu Marks: 66\n",
      "Enter Islamiat Marks: 89\n",
      "\n",
      "\n",
      "\n",
      "\n",
      "===============================Marksheet===============================\n",
      "Name: Shahjahan Samoon\n",
      "Roll Number:2k8/CSM/181\n",
      "Date: 04/Nov/2019\n",
      "Class: 8th\n",
      "_______________________________________________________________________\n",
      "Subject\t\t\tObtained marks\t\tTotal Marks\tGrade\n",
      "_______________________________________________________________________\n",
      "Maths\t\t\t45\t\t\t100\t\tD\n",
      "English\t\t\t67\t\t\t100\t\tB\n",
      "Science\t\t\t78\t\t\t100\t\tA\n",
      "Urdu\t\t\t66\t\t\t100\t\tB\n",
      "Islamiat\t\t\t89\t\t\t100\t\tA+\n",
      "_______________________________________________________________________\n",
      "Result:                                                         Pass\n"
     ]
    }
   ],
   "source": [
    "#Marksheet\n",
    "\n",
    "def marks_to_grade(marks = 0):\n",
    "    grade = \"N/A\"\n",
    "    if marks >= 80 and marks <= 100:\n",
    "        grade = \"A+\"\n",
    "    elif marks >= 70 and marks < 80:\n",
    "        grade = \"A\"\n",
    "    elif marks >= 60 and marks < 70:\n",
    "        grade = \"B\"\n",
    "    elif marks >= 50 and marks < 60:\n",
    "        grade = \"C\"\n",
    "    elif marks >= 40 and marks < 50:\n",
    "        grade = \"D\"\n",
    "    else :\n",
    "        grade = \"Fail\"\n",
    "    return grade\n",
    "\n",
    "def isPass(marks):\n",
    "    return marks >= 40 and marks <= 100\n",
    "\n",
    "math_marks = int(input(\"Enter Math's Marks: \"))\n",
    "english_marks = int(input(\"Enter English Marks: \"))\n",
    "science_marks = int(input(\"Enter Science Marks: \"))\n",
    "urdu_marks = int(input(\"Enter Urdu Marks: \"))\n",
    "islamiat_marks = int(input(\"Enter Islamiat Marks: \"))\n",
    "math = (\"Maths\", math_marks, marks_to_grade(math_marks), isPass(math_marks))\n",
    "english = (\"English\", english_marks, marks_to_grade(english_marks), isPass(english_marks))\n",
    "science = (\"Science\", science_marks, marks_to_grade(science_marks), isPass(science_marks))\n",
    "urdu = (\"Urdu\", urdu_marks, marks_to_grade(urdu_marks), isPass(urdu_marks))\n",
    "islamiat = (\"Islamiat\", islamiat_marks, marks_to_grade(islamiat_marks), isPass(islamiat_marks))\n",
    "result = (math, english, science, urdu, islamiat)\n",
    "\n",
    "total_marks_obtained = 0\n",
    "total_marks = 0;\n",
    "\n",
    "isPass = \"Pass\"\n",
    "\n",
    "print (\"\\n\\n\\n\\n===============================Marksheet===============================\")\n",
    "print(\"Name: Shahjahan Samoon\")\n",
    "print(\"Roll Number:2k8/CSM/181\")\n",
    "print(\"Date: 04/Nov/2019\")\n",
    "print(\"Class: 8th\")\n",
    "    \n",
    "print (\"_______________________________________________________________________\")\n",
    "print(\"Subject\\t\\t\\tObtained marks\\t\\tTotal Marks\\tGrade\")\n",
    "print (\"_______________________________________________________________________\")\n",
    "\n",
    "for subject in result:\n",
    "    total_marks = total_marks + 100;\n",
    "    total_marks_obtained = total_marks_obtained = subject[1]\n",
    "    \n",
    "    marks = subject[1];\n",
    "    if(marks > 100 or marks < 0):\n",
    "        marks = 0;\n",
    "        \n",
    "    \n",
    "    \n",
    "    if subject[3] == False:\n",
    "        isPass = \"Fail\"\n",
    "    \n",
    "    print(\"{}\\t\\t\\t{}\\t\\t\\t100\\t\\t{}\".format(subject[0], marks , subject[2]))\n",
    "    \n",
    "print (\"_______________________________________________________________________\")\n",
    "\n",
    "\n",
    "\n",
    "print (\"Result:                                                         {}\".format(isPass))"
   ]
  },
  {
   "cell_type": "code",
   "execution_count": 2,
   "metadata": {},
   "outputs": [
    {
     "name": "stdout",
     "output_type": "stream",
     "text": [
      "Enter number: 5\n",
      "5 is odd\n"
     ]
    }
   ],
   "source": [
    "\"\"\"Write a program which take input from user and identify that the given\n",
    "number is even or odd?\"\"\"\n",
    "\n",
    "num = int(input(\"Enter number: \"))\n",
    "if num % 2 == 0:\n",
    "    print(\"%s is even\"%num)\n",
    "else:\n",
    "    print(\"%s is odd\"%num)\n",
    "    "
   ]
  },
  {
   "cell_type": "code",
   "execution_count": 3,
   "metadata": {},
   "outputs": [
    {
     "name": "stdout",
     "output_type": "stream",
     "text": [
      "Length of list is 11\n"
     ]
    }
   ],
   "source": [
    "\"\"\"Write a program which print the length of the list?\"\"\"\n",
    "aList=[1,1,2,3,5,8,13,21,34,55,89]\n",
    "print(\"Length of list is %d\"%len(aList))"
   ]
  },
  {
   "cell_type": "code",
   "execution_count": 4,
   "metadata": {},
   "outputs": [
    {
     "name": "stdout",
     "output_type": "stream",
     "text": [
      "count is: 25\n"
     ]
    }
   ],
   "source": [
    "\"\"\"Write a Python program to sum all the numeric items in a list?\"\"\"\n",
    "\n",
    "bList = [1,2,'a',3,4,5,6,\"4\",\"t\"]\n",
    "count = 0\n",
    "for i in bList:\n",
    "\ttry:\n",
    "\t\tcount = count + int(i)\n",
    "\texcept ValueError:\n",
    "\t\t#ignore\n",
    "\t\tcontinue\n",
    "print(\"count is: %d\"%count)\n"
   ]
  },
  {
   "cell_type": "code",
   "execution_count": 5,
   "metadata": {},
   "outputs": [
    {
     "name": "stdout",
     "output_type": "stream",
     "text": [
      "Largest value is 75\n"
     ]
    }
   ],
   "source": [
    "\"\"\"Write a Python program to get the largest number from a numeric list.\"\"\"\n",
    "\n",
    "cList = [9,66,56,2,0,6,-1,75,4]\n",
    "largest = cList[0]\n",
    "for i in cList:\n",
    "\tif(i>largest):\n",
    "\t\tlargest = i\n",
    "print(\"Largest value is %d\"%largest)"
   ]
  },
  {
   "cell_type": "code",
   "execution_count": 6,
   "metadata": {},
   "outputs": [
    {
     "name": "stdout",
     "output_type": "stream",
     "text": [
      "List is now : [1, 1, 2, 3]\n"
     ]
    }
   ],
   "source": [
    "\"\"\"Take a list, say for example this one:\n",
    "a=[1,1,2,3,5,8,13,21,34,55,89]\n",
    "and write a program that prints out all the elements of the list that are\n",
    "less than 5.\"\"\"\n",
    "\n",
    "a=[1,1,2,3,5,8,13,21,34,55,89]\n",
    "b = []\n",
    "for i in a:\n",
    "\tif i < 5:\n",
    "\t\tb.append(i)\n",
    "print(\"List is now : %s\"%b)"
   ]
  },
  {
   "cell_type": "code",
   "execution_count": null,
   "metadata": {},
   "outputs": [],
   "source": []
  }
 ],
 "metadata": {
  "kernelspec": {
   "display_name": "Python 3",
   "language": "python",
   "name": "python3"
  },
  "language_info": {
   "codemirror_mode": {
    "name": "ipython",
    "version": 3
   },
   "file_extension": ".py",
   "mimetype": "text/x-python",
   "name": "python",
   "nbconvert_exporter": "python",
   "pygments_lexer": "ipython3",
   "version": "3.7.3"
  }
 },
 "nbformat": 4,
 "nbformat_minor": 2
}
