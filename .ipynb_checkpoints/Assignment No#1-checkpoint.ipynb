{
 "cells": [
  {
   "cell_type": "code",
   "execution_count": 2,
   "metadata": {},
   "outputs": [
    {
     "name": "stdout",
     "output_type": "stream",
     "text": [
      "Python Version: 3.7.4\n"
     ]
    }
   ],
   "source": [
    "#import sys module\n",
    "import sys\n",
    "#get tuple by calling sys.version_info and print upto 3rd index 0>Major, 1>Minor, 2>Micro\n",
    "print(\"Python Version: {}.{}.{}\".format(sys.version_info[0],sys.version_info[1],sys.version_info[2]))"
   ]
  },
  {
   "cell_type": "code",
   "execution_count": 3,
   "metadata": {},
   "outputs": [
    {
     "name": "stdout",
     "output_type": "stream",
     "text": [
      "Current date and time  03/11/2019 08:05:07\n"
     ]
    }
   ],
   "source": [
    "#import datetime module\n",
    "from datetime import datetime\n",
    "#get instance of current datetime\n",
    "currentDateTime = datetime.now()\n",
    "#format the date time\n",
    "currentDateTimeFormatted = currentDateTime.strftime(\"%d/%m/%Y %H:%M:%S\")\n",
    "#print the formatted date and time\n",
    "print(\"Current date and time \", currentDateTimeFormatted)"
   ]
  },
  {
   "cell_type": "code",
   "execution_count": 1,
   "metadata": {},
   "outputs": [
    {
     "name": "stdout",
     "output_type": "stream",
     "text": [
      "Enter value 1: 5\n",
      "Enter value 2: 7\n",
      "Addition is 12\n"
     ]
    }
   ],
   "source": [
    "#get user input as integer for first number\n",
    "num1=int(input(\"Enter value 1: \"))\n",
    "#get user input as integer for second number\n",
    "num2=int(input(\"Enter value 2: \"))\n",
    "\n",
    "#print addition of two number inputs\n",
    "print(\"Addition is {}\".format(num1+num2))"
   ]
  },
  {
   "cell_type": "code",
   "execution_count": 5,
   "metadata": {
    "cocalc": {
     "outputs": {
      "0": {
       "name": "input",
       "opts": {
        "password": false,
        "prompt": "Enter the radius :"
       },
       "output_type": "stream",
       "value": "10"
      }
     }
    }
   },
   "outputs": [
    {
     "name": "stdout",
     "output_type": "stream",
     "text": [
      "Enter the radius : 10Area of circle is : 314.00\n"
     ]
    }
   ],
   "source": [
    "# PIis constant with value 3.14\n",
    "PI = 3.14\n",
    "# R user input as integer\n",
    "R = float(input('Enter the radius :'))\n",
    "# Calculate area of circle\n",
    "area = PI * R * R\n",
    "#print area of circle\n",
    "print(\"Area of circle is : %.2f\" %area)"
   ]
  },
  {
   "cell_type": "code",
   "execution_count": 6,
   "metadata": {
    "cocalc": {
     "outputs": {
      "0": {
       "name": "input",
       "opts": {
        "password": false,
        "prompt": "Enter first name: "
       },
       "output_type": "stream",
       "value": "Shahjahan"
      },
      "1": {
       "name": "input",
       "opts": {
        "password": false,
        "prompt": "Enter last name: "
       },
       "output_type": "stream",
       "value": "Samoon"
      }
     }
    }
   },
   "outputs": [
    {
     "name": "stdout",
     "output_type": "stream",
     "text": [
      "Enter first name:  ShahjahanEnter last name:  SamoonReverse is noomaS nahajhahS\n"
     ]
    }
   ],
   "source": [
    "fname = input(\"Enter first name: \")\n",
    "lname = input(\"Enter last name: \")\n",
    "\n",
    "full_name = fname +\" \"+lname\n",
    "print(\"Reverse is {}\".format(full_name[::-1]))"
   ]
  },
  {
   "cell_type": "code",
   "execution_count": 1,
   "metadata": {},
   "outputs": [
    {
     "name": "stdout",
     "output_type": "stream",
     "text": [
      "Twinkle, twinkle, little star,\n",
      "       How I wonder what you are!\n",
      "             Up above the world so high\n",
      "             Like a diamond in the sky.\n",
      "Twinkle, twinkle, little star,\n",
      "       How I wonder what you are\n"
     ]
    }
   ],
   "source": [
    "str = \"\"\"Twinkle, twinkle, little star,\n",
    "       How I wonder what you are!\n",
    "             Up above the world so high\n",
    "             Like a diamond in the sky.\n",
    "Twinkle, twinkle, little star,\n",
    "       How I wonder what you are\"\"\"\n",
    "print(str)"
   ]
  },
  {
   "cell_type": "code",
   "execution_count": 3,
   "metadata": {},
   "outputs": [
    {
     "name": "stdout",
     "output_type": "stream",
     "text": [
      "Enter Math's Marks: 60\n",
      "Enter English Marks: 68\n",
      "Enter Science Marks: 50\n",
      "Subject\t\t\tObtained marks\t\t\tTotal Marks\t\t\tGrade\n",
      "Maths\t\t\t60\t\t\t100\t\t\tB\n",
      "English\t\t\t68\t\t\t100\t\t\tB\n",
      "Maths\t\t\t50\t\t\t100\t\t\tC\n"
     ]
    }
   ],
   "source": [
    "\n",
    "def marks_to_grade(marks = 0):\n",
    "    grade = \"N/A\"\n",
    "    if marks >= 80 and marks <=100:\n",
    "        grade = \"A+\"\n",
    "    elif marks >= 70:\n",
    "        grade = \"A\"\n",
    "    elif marks >= 60:\n",
    "        grade = \"B\"\n",
    "    elif marks >= 50:\n",
    "        grade = \"C\"\n",
    "    elif marks >= 40:\n",
    "        grade = \"D\"\n",
    "    else :\n",
    "        grade = \"Fail\"\n",
    "    return grade\n",
    "\n",
    "def isPass(marks):\n",
    "    return marks >=40 and marks <=100\n",
    "\n",
    "math_marks = int(input(\"Enter Math's Marks: \"))\n",
    "english_marks = int(input(\"Enter English Marks: \"))\n",
    "science_marks = int(input(\"Enter Science Marks: \"))\n",
    "\n",
    "\n",
    "math = (\"Maths\", math_marks, marks_to_grade(math_marks), isPass(math_marks))\n",
    "english = (\"English\", english_marks, marks_to_grade(english_marks), isPass(english_marks))\n",
    "science = (\"Maths\", science_marks, marks_to_grade(science_marks), isPass(science_marks))\n",
    "\n",
    "result = (math, english, science)\n",
    "\n",
    "total_marks_obtained = 0\n",
    "total_marks = 0;\n",
    "\n",
    "isPass = True\n",
    "\n",
    "print(\"Subject\\t\\t\\tObtained marks\\t\\t\\tTotal Marks\\t\\t\\tGrade\")\n",
    "for subject in result:\n",
    "    total_marks = total_marks + 100;\n",
    "    total_marks_obtained = total_marks_obtained = subject[1]\n",
    "    \n",
    "    if subject[3] == \"Fail\":\n",
    "        isPass = False\n",
    "    \n",
    "    print(\"{}\\t\\t\\t{}\\t\\t\\t100\\t\\t\\t{}\".format(subject[0], subject[1], subject[2]))\n",
    "\n",
    "\n"
   ]
  },
  {
   "cell_type": "code",
   "execution_count": null,
   "metadata": {},
   "outputs": [],
   "source": []
  }
 ],
 "metadata": {
  "kernelspec": {
   "display_name": "Python 3",
   "language": "python",
   "name": "python3"
  },
  "language_info": {
   "codemirror_mode": {
    "name": "ipython",
    "version": 3
   },
   "file_extension": ".py",
   "mimetype": "text/x-python",
   "name": "python",
   "nbconvert_exporter": "python",
   "pygments_lexer": "ipython3",
   "version": "3.7.3"
  }
 },
 "nbformat": 4,
 "nbformat_minor": 1
}
