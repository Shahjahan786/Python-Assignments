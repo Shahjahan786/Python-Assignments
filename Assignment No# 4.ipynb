{
 "cells": [
  {
   "cell_type": "code",
   "execution_count": 7,
   "metadata": {},
   "outputs": [
    {
     "name": "stdout",
     "output_type": "stream",
     "text": [
      "\n",
      "print_person_info:  Traversing each information \n",
      "\n",
      "first_name -> Shahjahahn\n",
      "last_name -> Samoon\n",
      "age -> 30\n",
      "city -> Thatta\n",
      "\n",
      "print_person_info:  Traversing each information after adding qualification \n",
      "\n",
      "first_name -> Shahjahahn\n",
      "last_name -> Samoon\n",
      "age -> 30\n",
      "city -> Thatta\n",
      "qualification -> BS Computer Science\n",
      "\n",
      "print_person_info:  Traversing each information after updating qualification \n",
      "\n",
      "first_name -> Shahjahahn\n",
      "last_name -> Samoon\n",
      "age -> 30\n",
      "city -> Thatta\n",
      "qualification -> MS Computer Science\n",
      "\n",
      "print_person_info:  Traversing each information after deleting qualification \n",
      "\n",
      "first_name -> Shahjahahn\n",
      "last_name -> Samoon\n",
      "age -> 30\n",
      "city -> Thatta\n"
     ]
    }
   ],
   "source": [
    "#Question1\n",
    "\n",
    "# define person dictionary\n",
    "person = {\n",
    "    \"first_name\" : \"Shahjahahn\",\n",
    "    \"last_name\" : \"Samoon\",\n",
    "    \"age\" : 30,\n",
    "    \"city\" : \"Thatta\"\n",
    "}\n",
    "\n",
    "# define function to print person info\n",
    "def print_person_info(tag, person):\n",
    "    print(\"\\nprint_person_info: \", tag , \"\\n\")\n",
    "    for key , value in person.items():\n",
    "        print(key, \"->\", value)\n",
    "\n",
    "print_person_info(\"Traversing each information\", person)\n",
    "\n",
    "# add qualification\n",
    "\n",
    "person[\"qualification\"] = \"BS Computer Science\"\n",
    "\n",
    "print_person_info(\"Traversing each information after adding qualification\", person)\n",
    "\n",
    "\n",
    "# updating qualification\n",
    "\n",
    "person[\"qualification\"] = \"MS Computer Science\"\n",
    "\n",
    "print_person_info(\"Traversing each information after updating qualification\", person)\n",
    "\n",
    "# deleting qualification\n",
    "\n",
    "del person[\"qualification\"]\n",
    "\n",
    "print_person_info(\"Traversing each information after deleting qualification\", person)\n"
   ]
  },
  {
   "cell_type": "code",
   "execution_count": 11,
   "metadata": {},
   "outputs": [
    {
     "name": "stdout",
     "output_type": "stream",
     "text": [
      "\n",
      "city -> Islamabad\n",
      "country -> Pakistan\n",
      "population -> 1.015 million\n",
      "fact -> Islamabad is the capital city of Pakistan, and is federally administered as part of the Islamabad Capital Territory.\n",
      "\n",
      "city -> Newyork\n",
      "country -> USA\n",
      "population -> 8.623 million\n",
      "fact -> New York City comprises 5 boroughs sitting where the Hudson River meets the Atlantic Ocean.\n",
      "\n",
      "city -> London\n",
      "country -> United Kingdom\n",
      "population -> 8.9 million\n",
      "fact -> London, the capital of England and the United Kingdom, is a 21st-century city with history stretching back to Roman times\n"
     ]
    }
   ],
   "source": [
    "#Question2\n",
    "cities = {\n",
    "            \"Islamabad\" : {\"country\": \"Pakistan\", \"population\" : \"1.015 million\", \"fact\": \"Islamabad is the capital city of Pakistan, and is federally administered as part of the Islamabad Capital Territory.\"},\n",
    "            \"Newyork\" : {\"country\": \"USA\", \"population\" : \"8.623 million\", \"fact\": \"New York City comprises 5 boroughs sitting where the Hudson River meets the Atlantic Ocean.\"},\n",
    "            \"London\" : {\"country\": \"United Kingdom\", \"population\" : \"8.9 million\", \"fact\": \"London, the capital of England and the United Kingdom, is a 21st-century city with history stretching back to Roman times\"}\n",
    "         }\n",
    "\n",
    "def print_cities_info(cities):\n",
    "    for city, details in cities.items():\n",
    "        print(\"\\ncity ->\", city)\n",
    "        for city_attr, attr_value  in details.items():\n",
    "            print(city_attr,\"->\", attr_value)\n",
    "\n",
    "print_cities_info(cities)\n",
    "            "
   ]
  },
  {
   "cell_type": "code",
   "execution_count": 4,
   "metadata": {},
   "outputs": [
    {
     "name": "stdout",
     "output_type": "stream",
     "text": [
      "Enter your age in years: 3\n",
      "Your ticket price is:  Free\n",
      "Enter your age in years: 5\n",
      "Your ticket price is:  $10\n",
      "Enter your age in years: 13\n",
      "Your ticket price is:  $15\n"
     ]
    }
   ],
   "source": [
    "#Question3\n",
    "def charge_ticket_price(age):\n",
    "    if age in range(1,4):\n",
    "        return \"Free\"\n",
    "    elif age in range(4,12):\n",
    "        return \"$10\"\n",
    "    else:\n",
    "        return \"$15\"\n",
    "    \n",
    "input_count = 3\n",
    "\n",
    "while(input_count > 0):\n",
    "    age = int(input(\"Enter your age in years: \"))\n",
    "    charge = charge_ticket_price(age)\n",
    "    print(\"Your ticket price is: \", charge)\n",
    "    input_count = input_count - 1"
   ]
  },
  {
   "cell_type": "code",
   "execution_count": 5,
   "metadata": {},
   "outputs": [
    {
     "name": "stdout",
     "output_type": "stream",
     "text": [
      "One of my favorite book is The Holy Quraan\n"
     ]
    }
   ],
   "source": [
    "#Question4\n",
    "\n",
    "def favorite_book(title):\n",
    "    print(\"One of my favorite book is\", title)\n",
    "    \n",
    "favorite_book(\"The Holy Quraan\")"
   ]
  },
  {
   "cell_type": "code",
   "execution_count": 2,
   "metadata": {},
   "outputs": [
    {
     "name": "stdout",
     "output_type": "stream",
     "text": [
      "Enter number you've guessed: 5\n",
      "your guess is less than the number\n",
      "Enter number you've guessed: 6\n",
      "your guess is less than the number\n",
      "Enter number you've guessed: 7\n",
      "your guess is less than the number\n",
      "No luck try again!\n"
     ]
    }
   ],
   "source": [
    "#Question5\n",
    "import random \n",
    "num = random.randrange(1,31)\n",
    "input_count = 3\n",
    "\n",
    "success = False \n",
    "\n",
    "while(input_count > 0):\n",
    "    guess = int(input(\"Enter number you've guessed: \"))\n",
    "    if guess == num:\n",
    "        print(\"Great your guess is right\", num)\n",
    "        success = True \n",
    "        break\n",
    "    elif guess > num:\n",
    "        print(\"your guess is greater than the number\")\n",
    "    elif guess < num:\n",
    "        print(\"your guess is less than the number\")\n",
    "    input_count = input_count - 1\n",
    "    \n",
    "if success != True:\n",
    "    print(\"No luck try again!\")\n",
    "\n"
   ]
  },
  {
   "cell_type": "code",
   "execution_count": null,
   "metadata": {},
   "outputs": [],
   "source": []
  }
 ],
 "metadata": {
  "kernelspec": {
   "display_name": "Python 3",
   "language": "python",
   "name": "python3"
  },
  "language_info": {
   "codemirror_mode": {
    "name": "ipython",
    "version": 3
   },
   "file_extension": ".py",
   "mimetype": "text/x-python",
   "name": "python",
   "nbconvert_exporter": "python",
   "pygments_lexer": "ipython3",
   "version": "3.7.3"
  }
 },
 "nbformat": 4,
 "nbformat_minor": 2
}
