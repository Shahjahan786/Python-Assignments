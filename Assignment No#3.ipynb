{
 "cells": [
  {
   "cell_type": "code",
   "execution_count": 5,
   "metadata": {},
   "outputs": [
    {
     "name": "stdout",
     "output_type": "stream",
     "text": [
      "Enter First Value:6\n",
      "Enter Second value:3\n",
      "Enter Operator (+,-,/,x,**): x\n",
      "Result:  18\n"
     ]
    }
   ],
   "source": [
    "\"\"\"Make a calculator using Python with addition , subtraction , multiplication ,\n",
    "division and power.\"\"\"\n",
    "\n",
    "num1 = int(input(\"Enter First Value:\"))\n",
    "num2 = int(input(\"Enter Second value:\"))\n",
    "\n",
    "op = input(\"Enter Operator (+,-,/,x,**): \")\n",
    "result = 0;\n",
    "if(op == '+'):\n",
    "    result = num1+num2\n",
    "elif(op == '-'):\n",
    "     result = num1-num2\n",
    "elif(op == '/'):\n",
    "     result = num1/num2\n",
    "elif(op == 'x'):\n",
    "     result = num1*num2\n",
    "elif(op == '**'):\n",
    "     result = num1**num2\n",
    "else:\n",
    "    raise Exception(\"Operator must be one of (+,-,/,x,**)\") # raise exception if the operator is not givemn in the prompt\n",
    "    \n",
    "print(\"Result: \", result)\n"
   ]
  },
  {
   "cell_type": "code",
   "execution_count": 15,
   "metadata": {},
   "outputs": [
    {
     "name": "stdout",
     "output_type": "stream",
     "text": [
      "the list conatins numeric value\n"
     ]
    }
   ],
   "source": [
    "\"\"\"Write a program to check if there is any numeric value in list using for loop\"\"\"\n",
    "\n",
    "the_list = [\"Karachi\", \"Pakistan\", 3.5, \"Sindh\", 1, 'Shahjahan', \"Samoon\"]\n",
    "\n",
    "the_list_conatins_numeric_item = False\n",
    "\n",
    "for each_item in the_list:\n",
    "    if(type(each_item) is int or type(each_item) is float): #check wether the item is numeric or not\n",
    "        the_list_conatins_numeric_item = True\n",
    "        \n",
    "if(the_list_conatins_numeric_item):\n",
    "    print(\"the list conatins numeric value\")\n",
    "else:\n",
    "    print(\"the list does not conatins numeric value\")\n",
    "\n"
   ]
  },
  {
   "cell_type": "code",
   "execution_count": 16,
   "metadata": {},
   "outputs": [
    {
     "name": "stdout",
     "output_type": "stream",
     "text": [
      "{'name': 'Shahjahan', 'city': 'Karachi', 'age': 30}\n"
     ]
    }
   ],
   "source": [
    "\"\"\"Write a Python script to add a key to a dictionary\"\"\"\n",
    "\n",
    "the_dict = {\"name\": \"Shahjahan\", \"city\": \"Karachi\"}\n",
    "the_dict[\"age\"] = 30 #adding 'age' key to dictionary 'the_dict'\n",
    "print(the_dict)"
   ]
  },
  {
   "cell_type": "code",
   "execution_count": 19,
   "metadata": {},
   "outputs": [
    {
     "name": "stdout",
     "output_type": "stream",
     "text": [
      "Sum of all numeric values in dictionary is: 33.37\n"
     ]
    }
   ],
   "source": [
    "\"\"\"Write a Python program to sum all the numeric items in a dictionary\"\"\"\n",
    "the_dict = {\"name\": \"Shahjahan\", \"city\": \"Karachi\", \"age\":30, \"qualification\": \"BS Computer Science\", \"cgpa\":3.37}\n",
    "\n",
    "sum = 0\n",
    "for each_value in the_dict.values():\n",
    "    if(type(each_value) is int or type(each_value) is float): #check wether the item is numeric or not\n",
    "        sum += each_value\n",
    "\n",
    "print(\"Sum of all numeric values in dictionary is: %s\"%sum)\n",
    "\n",
    "\n"
   ]
  },
  {
   "cell_type": "code",
   "execution_count": 21,
   "metadata": {},
   "outputs": [
    {
     "name": "stdout",
     "output_type": "stream",
     "text": [
      "Karachi\n",
      "Hyderabad\n",
      "Thatta\n"
     ]
    }
   ],
   "source": [
    "\"\"\"Write a program to identify duplicate values from list\"\"\"\n",
    "\n",
    "the_list = [\"Karachi\", \"Hyderabad\", \"Karchi\", \"Lahore\", \"Islamabad\", \"Karachi\",\"Hyderabad\", \"Thatta\",\"Peshawar\",\"Thatta\"]\n",
    "the_dict = {}\n",
    "for the_key in the_list:\n",
    "    if the_key in the_dict:\n",
    "        count = the_dict[the_key] +1;\n",
    "        the_dict[the_key] = count;\n",
    "        \n",
    "    else:\n",
    "         the_dict[the_key] = 1;\n",
    "            \n",
    "for each_item in the_dict:\n",
    "    if(the_dict[each_item] > 1):\n",
    "        print(each_item)\n"
   ]
  },
  {
   "cell_type": "code",
   "execution_count": 27,
   "metadata": {},
   "outputs": [
    {
     "name": "stdout",
     "output_type": "stream",
     "text": [
      "Enter Key:name\n",
      "The key  name already exists\n"
     ]
    }
   ],
   "source": [
    "\"\"\"Write a Python script to check if a given key already exists in a dictionary\"\"\"\n",
    "the_dict = {\"name\": \"Shahjahan\", \"city\": \"Karachi\"}\n",
    "the_dict[\"age\"] = 30 #adding 'age' key to dictionary 'the_dict'\n",
    "\n",
    "key = input(\"Enter Key:\")\n",
    "if(key in the_dict):\n",
    "    print(\"The key \", key, \"already exists\")\n",
    "else: print(\"The key \", key, \"does not exists\")"
   ]
  },
  {
   "cell_type": "code",
   "execution_count": null,
   "metadata": {},
   "outputs": [],
   "source": []
  }
 ],
 "metadata": {
  "kernelspec": {
   "display_name": "Python 3",
   "language": "python",
   "name": "python3"
  },
  "language_info": {
   "codemirror_mode": {
    "name": "ipython",
    "version": 3
   },
   "file_extension": ".py",
   "mimetype": "text/x-python",
   "name": "python",
   "nbconvert_exporter": "python",
   "pygments_lexer": "ipython3",
   "version": "3.7.3"
  }
 },
 "nbformat": 4,
 "nbformat_minor": 2
}
