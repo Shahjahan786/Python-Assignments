{
 "cells": [
  {
   "cell_type": "code",
   "execution_count": 1,
   "metadata": {},
   "outputs": [
    {
     "data": {
      "text/plain": [
       "'Object Oriented Programing Language is which supports Object oriented aproach to map real world objects \\nand solve real world problems. It is paradigm based on the concept of objects, their properties/attributes \\nand their functions/behaviors. We define classes to \"encapsulate\" the properties and functionalities of an object \\nand add abstraction for the other objects to access/use that object, An object can \"inherit\" properties \\nand functionalities from it\\'s parents. Objects with common parent can perform same functionality differently from each other. \\nAll these principle allow developers to write the code that is modular, resuable, mainatainable and extendable\\n'"
      ]
     },
     "execution_count": 1,
     "metadata": {},
     "output_type": "execute_result"
    }
   ],
   "source": [
    "#Question 1: Define Object Oriented Programing Language\n",
    "\n",
    "\"\"\"Object Oriented Programing Language is which supports Object oriented aproach to map real world objects \n",
    "and solve real world problems. It is paradigm based on the concept of objects, their properties/attributes \n",
    "and their functions/behaviors. We define classes to \"encapsulate\" the properties and functionalities of an object \n",
    "and add abstraction for the other objects to access/use that object, An object can \"inherit\" properties \n",
    "and functionalities from it's parents. Objects with common parent can perform same functionality differently from each other. \n",
    "All these principle allow developers to write the code that is modular, resuable, mainatainable and extendable\n",
    "\"\"\""
   ]
  },
  {
   "cell_type": "code",
   "execution_count": 1,
   "metadata": {},
   "outputs": [
    {
     "data": {
      "text/plain": [
       "' Object orineted Progriming has a lot of benefits some of them are listed below:'"
      ]
     },
     "execution_count": 1,
     "metadata": {},
     "output_type": "execute_result"
    }
   ],
   "source": [
    "#Question 2: List down the benefits of OOP\n",
    "\n",
    "\"\"\" Object orineted Progriming has a lot of benefits some of them are listed below:\"\"\"\n",
    "\n",
    "# Reusablity of code\n",
    "# Modularity and simplicity\n",
    "# Ease of use\n",
    "# Portability\n",
    "# Maintainable\n",
    "# Extensible\n",
    "# Rapid Application Development\n",
    "# Encapsulation \n",
    "# Inheritance\n",
    "# Abstraction\n",
    "# Polymorpism"
   ]
  },
  {
   "cell_type": "code",
   "execution_count": 2,
   "metadata": {},
   "outputs": [
    {
     "data": {
      "text/plain": [
       "'\\nFunctions or methods are named callable piece of code which performs some operations and optionaly return some value\\n\\nif we write that named callable piece of code in a procedural style it is mostly known as \"Function\", but when we write that function in \\nobject oriented way and encapsulate it inside object and it performs operation related or within the scope of object we call it as \"Method\"\\n\\nA method is a function which is always associated with it\\'s object.\\n\\nIn general methods are functions that belong to a class, so you can state that all methods are functions but not all functions are methods\\n\\n'"
      ]
     },
     "execution_count": 2,
     "metadata": {},
     "output_type": "execute_result"
    }
   ],
   "source": [
    "#Question 3: Differenciate between function and method\n",
    "\n",
    "\"\"\"\n",
    "Functions or methods are named callable piece of code which performs some operations and optionaly return some value\n",
    "\n",
    "if we write that named callable piece of code in a procedural style it is mostly known as \"Function\", but when we write that function in \n",
    "object oriented way and encapsulate it inside object and it performs operation related or within the scope of object we call it as \"Method\"\n",
    "\n",
    "A method is a function which is always associated with it's object.\n",
    "\n",
    "In general methods are functions that belong to a class, so you can state that all methods are functions but not all functions are methods\n",
    "\n",
    "\"\"\""
   ]
  },
  {
   "cell_type": "code",
   "execution_count": 3,
   "metadata": {},
   "outputs": [
    {
     "data": {
      "text/plain": [
       "'\\n1. Class:\\n    A class is a blueprint, defination, template from which an objects are created, a class is packagement or encapsulation of the attributes and\\n    behaviours of an object.\\n    \\n    A class is basic building block of any object oriented programing language.\\n    \\n2. Object:\\n    Oject is instance of a particular class, where object can be combination of properties, methods and data structures.\\n    Objects are conceptually similar to real world objects like Person, Car, Animal, Tree.\\n    \\n3. Attribute:\\n    Attribute is an state of object which defines their properties, Like Car is an Object which has black color, 4 tires and it is running on the road\\n\\n4. Behavior:\\n    Behvior is the capability and functionality of the object i.e A car can run, Airplane can fly, Animal eats.\\n'"
      ]
     },
     "execution_count": 3,
     "metadata": {},
     "output_type": "execute_result"
    }
   ],
   "source": [
    "#Question 4: Define following terms:\n",
    "\n",
    "\"\"\"\n",
    "1. Class:\n",
    "    A class is a blueprint, defination, template from which an objects are created, a class is packagement or encapsulation of the attributes and\n",
    "    behaviours of an object.\n",
    "    \n",
    "    A class is basic building block of any object oriented programing language.\n",
    "    \n",
    "2. Object:\n",
    "    Oject is instance of a particular class, where object can be combination of properties, methods and data structures.\n",
    "    Objects are conceptually similar to real world objects like Person, Car, Animal, Tree.\n",
    "    \n",
    "3. Attribute:\n",
    "    Attribute is an state of object which defines their properties, Like Car is an Object which has black color, 4 tires and it is running on the road\n",
    "\n",
    "4. Behavior:\n",
    "    Behvior is the capability and functionality of the object i.e A car can run, Airplane can fly, Animal eats.\n",
    "\"\"\""
   ]
  },
  {
   "cell_type": "code",
   "execution_count": 4,
   "metadata": {},
   "outputs": [
    {
     "name": "stdout",
     "output_type": "stream",
     "text": [
      "\n",
      "        \n",
      "        Model: 2017\n",
      "        Color: Sand Beige\n",
      "        Name: Cultus\n",
      "        Engine: 998cc\n",
      "        Is ABS present? : True\n",
      "        \n",
      "        \n",
      "Car is running\n",
      "Car is stopped\n",
      "\n",
      "        \n",
      "        Model: 2018\n",
      "        Color: White\n",
      "        Name: City\n",
      "        Engine: 1498cc\n",
      "        Is ABS present? : True\n",
      "        \n",
      "        \n",
      "Car is running\n",
      "Car is stopped\n",
      "\n",
      "        \n",
      "        Model: 2019\n",
      "        Color: Blue\n",
      "        Name: Mehran\n",
      "        Engine: 796cc\n",
      "        Is ABS present? : False\n",
      "        \n",
      "        \n",
      "Car is running\n",
      "Car is stopped\n",
      "\n",
      "        \n",
      "        Model: 2019\n",
      "        Color: Black\n",
      "        Name: Mehran\n",
      "        Engine: 796cc\n",
      "        Is ABS present? : False\n",
      "        \n",
      "        \n",
      "Car is running\n",
      "Car is stopped\n",
      "\n",
      "        \n",
      "        Model: 2019\n",
      "        Color: White\n",
      "        Name: Mehran\n",
      "        Engine: 796cc\n",
      "        Is ABS present? : False\n",
      "        \n",
      "        \n",
      "Car is running\n",
      "Car is stopped\n"
     ]
    }
   ],
   "source": [
    "#Question 5:\n",
    "\n",
    "class Car:\n",
    "    def __init__(self, model, color, name):\n",
    "        self.model = model\n",
    "        self.color = color\n",
    "        self.name = name\n",
    "        self.engine = \"500\"\n",
    "        self.abs_present = False\n",
    "        \n",
    "    \n",
    "    def display_details(self):\n",
    "        print(\"\"\"\n",
    "        \n",
    "        Model: %s\n",
    "        Color: %s\n",
    "        Name: %s\n",
    "        Engine: %s\n",
    "        Is ABS present? : %s\n",
    "        \n",
    "        \"\"\"%(self.model, self.color, self.name, self.engine, self.abs_present))\n",
    "        \n",
    "        \n",
    "    def run(self):\n",
    "        print(\"Car is running\")\n",
    "    \n",
    "    def stop(self):\n",
    "        print(\"Car is stopped\")\n",
    "        \n",
    "\n",
    "car1 = Car(\"2017\", \"Sand Beige\", \"Cultus\")\n",
    "car1.engine = \"998cc\"\n",
    "car1.abs_present = True\n",
    "car1.display_details()\n",
    "car1.run()\n",
    "car1.stop()\n",
    "\n",
    "car2 = Car(\"2018\", \"White\", \"City\")\n",
    "car2.engine = \"1498cc\"\n",
    "car2.abs_present = True\n",
    "car2.display_details()\n",
    "car2.run()\n",
    "car2.stop()\n",
    "\n",
    "car3 = Car(\"2019\", \"Blue\", \"Mehran\")\n",
    "car3.engine = \"796cc\"\n",
    "car3.abs_present = False\n",
    "car3.display_details()\n",
    "car3.run()\n",
    "car3.stop()\n",
    "\n",
    "car4 = Car(\"2019\", \"Black\", \"Mehran\")\n",
    "car4.engine = \"796cc\"\n",
    "car4.abs_present = False\n",
    "car4.display_details()\n",
    "car4.run()\n",
    "car4.stop()\n",
    "\n",
    "car5 = Car(\"2019\", \"White\", \"Mehran\")\n",
    "car5.engine = \"796cc\"\n",
    "car5.abs_present = False\n",
    "car5.display_details()\n",
    "car5.run()\n",
    "car5.stop()"
   ]
  },
  {
   "cell_type": "code",
   "execution_count": null,
   "metadata": {},
   "outputs": [],
   "source": []
  }
 ],
 "metadata": {
  "kernelspec": {
   "display_name": "Python 3",
   "language": "python",
   "name": "python3"
  },
  "language_info": {
   "codemirror_mode": {
    "name": "ipython",
    "version": 3
   },
   "file_extension": ".py",
   "mimetype": "text/x-python",
   "name": "python",
   "nbconvert_exporter": "python",
   "pygments_lexer": "ipython3",
   "version": "3.7.4"
  }
 },
 "nbformat": 4,
 "nbformat_minor": 2
}
